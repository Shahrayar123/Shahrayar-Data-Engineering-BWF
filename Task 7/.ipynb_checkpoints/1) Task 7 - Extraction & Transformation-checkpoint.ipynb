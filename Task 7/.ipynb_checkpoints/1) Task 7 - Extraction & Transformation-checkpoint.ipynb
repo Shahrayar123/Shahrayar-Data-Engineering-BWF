{
 "cells": [
  {
   "cell_type": "markdown",
   "id": "c3261448",
   "metadata": {},
   "source": [
    "**You'll be given a csv dataset file and you'll be extracting data from it through pandas or pyspark. Then there will be the transformation phase and after performing that you'll try to load the final data to a database.**"
   ]
  },
  {
   "cell_type": "markdown",
   "id": "f71f1cd6",
   "metadata": {},
   "source": [
    "**There are some problems with the data and you need to remove them during the transformation phase to make data useful for everyone:**\n",
    "- An order id should always exist as an integer\n",
    "- A product id cannot be 0\n",
    "- We never had a product priced more than 1500 Rs. so any item with amount greater than 1500 Rs is an anomaly and it should be treated as 1500 Rs \n",
    "- A status of an item can never be null or None, if it is then its an anomaly and item rows to be considered as fake orders and should not be kept in final data\n",
    "- There must be duplication in final data"
   ]
  },
  {
   "cell_type": "markdown",
   "id": "817f8fc7",
   "metadata": {},
   "source": [
    "---\n",
    "### Importing required libraries"
   ]
  },
  {
   "cell_type": "code",
   "execution_count": 1,
   "id": "0e2fb5a0",
   "metadata": {},
   "outputs": [],
   "source": [
    "import pandas as pd\n",
    "import numpy as np"
   ]
  },
  {
   "cell_type": "code",
   "execution_count": 2,
   "id": "6b46c4db",
   "metadata": {},
   "outputs": [],
   "source": [
    "df = pd.read_csv(\"dataset.csv\")"
   ]
  },
  {
   "cell_type": "code",
   "execution_count": 3,
   "id": "3a37e853",
   "metadata": {},
   "outputs": [
    {
     "data": {
      "text/html": [
       "<div>\n",
       "<style scoped>\n",
       "    .dataframe tbody tr th:only-of-type {\n",
       "        vertical-align: middle;\n",
       "    }\n",
       "\n",
       "    .dataframe tbody tr th {\n",
       "        vertical-align: top;\n",
       "    }\n",
       "\n",
       "    .dataframe thead th {\n",
       "        text-align: right;\n",
       "    }\n",
       "</style>\n",
       "<table border=\"1\" class=\"dataframe\">\n",
       "  <thead>\n",
       "    <tr style=\"text-align: right;\">\n",
       "      <th></th>\n",
       "      <th>item_id</th>\n",
       "      <th>order_id</th>\n",
       "      <th>product_id</th>\n",
       "      <th>amount</th>\n",
       "      <th>status</th>\n",
       "      <th>item_timestamp</th>\n",
       "      <th>location</th>\n",
       "      <th>customer_name</th>\n",
       "      <th>customer_phone</th>\n",
       "      <th>country</th>\n",
       "      <th>description</th>\n",
       "    </tr>\n",
       "  </thead>\n",
       "  <tbody>\n",
       "    <tr>\n",
       "      <th>0</th>\n",
       "      <td>4dc01ae9-c1a8-461e-afa5-7e426578fd0a</td>\n",
       "      <td>160794</td>\n",
       "      <td>647</td>\n",
       "      <td>2237.23</td>\n",
       "      <td>Cancelled</td>\n",
       "      <td>2024-01-13 21:34:34.618927</td>\n",
       "      <td>East Cameron</td>\n",
       "      <td>Richard Stevens</td>\n",
       "      <td>(774)709-6342x106</td>\n",
       "      <td>Guatemala</td>\n",
       "      <td>Room as address heart vote PM.</td>\n",
       "    </tr>\n",
       "    <tr>\n",
       "      <th>1</th>\n",
       "      <td>cafaa69b-f0c5-42c9-8876-01b415c4497d</td>\n",
       "      <td>105101</td>\n",
       "      <td>127</td>\n",
       "      <td>2029.17</td>\n",
       "      <td>NaN</td>\n",
       "      <td>2024-04-24 03:22:23.515454</td>\n",
       "      <td>East Richardville</td>\n",
       "      <td>Keith Lamb</td>\n",
       "      <td>924-443-4084x8236</td>\n",
       "      <td>Saint Barthelemy</td>\n",
       "      <td>Nice beat despite hair face dinner miss recent...</td>\n",
       "    </tr>\n",
       "    <tr>\n",
       "      <th>2</th>\n",
       "      <td>77944e0c-f500-456a-9f18-32f2948e93d3</td>\n",
       "      <td>510841</td>\n",
       "      <td>243</td>\n",
       "      <td>848.88</td>\n",
       "      <td>Cancelled</td>\n",
       "      <td>2024-05-29 17:05:37.436639</td>\n",
       "      <td>South Christinaburgh</td>\n",
       "      <td>Patrick Allen</td>\n",
       "      <td>001-734-642-3018</td>\n",
       "      <td>Mauritania</td>\n",
       "      <td>Accept part crime hot leave.</td>\n",
       "    </tr>\n",
       "    <tr>\n",
       "      <th>3</th>\n",
       "      <td>1019711d-53c9-4015-bb0b-c3b23149dfa2</td>\n",
       "      <td>259964</td>\n",
       "      <td>209</td>\n",
       "      <td>614.64</td>\n",
       "      <td>Returned</td>\n",
       "      <td>2024-01-03 02:18:15.231398</td>\n",
       "      <td>South Jeremybury</td>\n",
       "      <td>Wendy White</td>\n",
       "      <td>+1-210-390-0363</td>\n",
       "      <td>Cameroon</td>\n",
       "      <td>Top huge old behavior western. Huge according ...</td>\n",
       "    </tr>\n",
       "    <tr>\n",
       "      <th>4</th>\n",
       "      <td>8e4497f4-78f2-495a-a251-fc84ee123922</td>\n",
       "      <td>270130</td>\n",
       "      <td>637</td>\n",
       "      <td>2898.00</td>\n",
       "      <td>NaN</td>\n",
       "      <td>2024-05-14 21:24:18.693104</td>\n",
       "      <td>Duncanland</td>\n",
       "      <td>Dustin Hicks</td>\n",
       "      <td>230.673.9935</td>\n",
       "      <td>Maldives</td>\n",
       "      <td>Style there TV social more body. Although onto...</td>\n",
       "    </tr>\n",
       "  </tbody>\n",
       "</table>\n",
       "</div>"
      ],
      "text/plain": [
       "                                item_id  order_id  product_id   amount  \\\n",
       "0  4dc01ae9-c1a8-461e-afa5-7e426578fd0a    160794         647  2237.23   \n",
       "1  cafaa69b-f0c5-42c9-8876-01b415c4497d    105101         127  2029.17   \n",
       "2  77944e0c-f500-456a-9f18-32f2948e93d3    510841         243   848.88   \n",
       "3  1019711d-53c9-4015-bb0b-c3b23149dfa2    259964         209   614.64   \n",
       "4  8e4497f4-78f2-495a-a251-fc84ee123922    270130         637  2898.00   \n",
       "\n",
       "      status              item_timestamp              location  \\\n",
       "0  Cancelled  2024-01-13 21:34:34.618927          East Cameron   \n",
       "1        NaN  2024-04-24 03:22:23.515454     East Richardville   \n",
       "2  Cancelled  2024-05-29 17:05:37.436639  South Christinaburgh   \n",
       "3   Returned  2024-01-03 02:18:15.231398      South Jeremybury   \n",
       "4        NaN  2024-05-14 21:24:18.693104            Duncanland   \n",
       "\n",
       "     customer_name     customer_phone           country  \\\n",
       "0  Richard Stevens  (774)709-6342x106         Guatemala   \n",
       "1       Keith Lamb  924-443-4084x8236  Saint Barthelemy   \n",
       "2    Patrick Allen   001-734-642-3018        Mauritania   \n",
       "3      Wendy White    +1-210-390-0363          Cameroon   \n",
       "4     Dustin Hicks       230.673.9935          Maldives   \n",
       "\n",
       "                                         description  \n",
       "0                     Room as address heart vote PM.  \n",
       "1  Nice beat despite hair face dinner miss recent...  \n",
       "2                       Accept part crime hot leave.  \n",
       "3  Top huge old behavior western. Huge according ...  \n",
       "4  Style there TV social more body. Although onto...  "
      ]
     },
     "execution_count": 3,
     "metadata": {},
     "output_type": "execute_result"
    }
   ],
   "source": [
    "df.head()"
   ]
  },
  {
   "cell_type": "markdown",
   "id": "7766bc1b",
   "metadata": {},
   "source": [
    "### **Checking count of rows and column in df**"
   ]
  },
  {
   "cell_type": "code",
   "execution_count": 4,
   "id": "6604393f",
   "metadata": {},
   "outputs": [
    {
     "data": {
      "text/plain": [
       "(100000, 11)"
      ]
     },
     "execution_count": 4,
     "metadata": {},
     "output_type": "execute_result"
    }
   ],
   "source": [
    "df.shape"
   ]
  },
  {
   "cell_type": "markdown",
   "id": "1dc2995b",
   "metadata": {},
   "source": [
    "**There are total `100000 rows` and `11 column`**"
   ]
  },
  {
   "cell_type": "markdown",
   "id": "690a5247",
   "metadata": {},
   "source": [
    "## Transformation phase"
   ]
  },
  {
   "cell_type": "markdown",
   "id": "65e64697",
   "metadata": {},
   "source": [
    "### **Checking datatype of order_id**"
   ]
  },
  {
   "cell_type": "code",
   "execution_count": 5,
   "id": "4e389a08",
   "metadata": {},
   "outputs": [
    {
     "data": {
      "text/plain": [
       "dtype('int64')"
      ]
     },
     "execution_count": 5,
     "metadata": {},
     "output_type": "execute_result"
    }
   ],
   "source": [
    "df[\"order_id\"].dtype"
   ]
  },
  {
   "cell_type": "markdown",
   "id": "fbaa83e6",
   "metadata": {},
   "source": [
    "**`order_id` is already in integer type**"
   ]
  },
  {
   "cell_type": "markdown",
   "id": "ba8329ed",
   "metadata": {},
   "source": [
    "### Checking `product ID`"
   ]
  },
  {
   "cell_type": "code",
   "execution_count": 6,
   "id": "626cfec8",
   "metadata": {},
   "outputs": [
    {
     "data": {
      "text/plain": [
       "(112, 11)"
      ]
     },
     "execution_count": 6,
     "metadata": {},
     "output_type": "execute_result"
    }
   ],
   "source": [
    "df[df[\"product_id\"] == 0].shape"
   ]
  },
  {
   "cell_type": "markdown",
   "id": "5582979c",
   "metadata": {},
   "source": [
    "**There are total `112` rows where `product ID` is `0`, so either I can drop it from `df` or replace `0` with some other valid unique IDs**"
   ]
  },
  {
   "cell_type": "markdown",
   "id": "c29477f7",
   "metadata": {},
   "source": [
    "**For this task, I am dropping rows where `product_id` is 0**"
   ]
  },
  {
   "cell_type": "code",
   "execution_count": 7,
   "id": "43d90332",
   "metadata": {},
   "outputs": [],
   "source": [
    "df = df[df[\"product_id\"] != 0]"
   ]
  },
  {
   "cell_type": "code",
   "execution_count": 8,
   "id": "79e4dab5",
   "metadata": {},
   "outputs": [
    {
     "data": {
      "text/plain": [
       "(99888, 11)"
      ]
     },
     "execution_count": 8,
     "metadata": {},
     "output_type": "execute_result"
    }
   ],
   "source": [
    "df.shape"
   ]
  },
  {
   "cell_type": "markdown",
   "id": "b2b8185d",
   "metadata": {},
   "source": [
    "### Checking product price"
   ]
  },
  {
   "cell_type": "code",
   "execution_count": 9,
   "id": "9c8c38a1",
   "metadata": {},
   "outputs": [
    {
     "data": {
      "text/plain": [
       "(69904, 11)"
      ]
     },
     "execution_count": 9,
     "metadata": {},
     "output_type": "execute_result"
    }
   ],
   "source": [
    "df[df[\"amount\"] > 1500].shape"
   ]
  },
  {
   "cell_type": "markdown",
   "id": "3465eaa9",
   "metadata": {},
   "source": [
    "#### There are total `69904 rows` where amount is greater then `1500`, so replacing values of these with `1500`"
   ]
  },
  {
   "cell_type": "code",
   "execution_count": 10,
   "id": "b1528927",
   "metadata": {},
   "outputs": [],
   "source": [
    "df[\"amount\"] = np.where(df[\"amount\"] > 1500, 1500, df[\"amount\"])"
   ]
  },
  {
   "cell_type": "markdown",
   "id": "7ca69818",
   "metadata": {},
   "source": [
    "### Checking item's `status`"
   ]
  },
  {
   "cell_type": "code",
   "execution_count": 11,
   "id": "bd0faf0d",
   "metadata": {},
   "outputs": [
    {
     "data": {
      "text/plain": [
       "16487"
      ]
     },
     "execution_count": 11,
     "metadata": {},
     "output_type": "execute_result"
    }
   ],
   "source": [
    "df[\"status\"].isna().sum()"
   ]
  },
  {
   "cell_type": "markdown",
   "id": "7f5fa505",
   "metadata": {},
   "source": [
    "**There are total `16487 rows` where value in status column is `Null`, so dropping them from original data**"
   ]
  },
  {
   "cell_type": "code",
   "execution_count": 12,
   "id": "7209d308",
   "metadata": {},
   "outputs": [],
   "source": [
    "df.dropna(subset=['status'], inplace=True)"
   ]
  },
  {
   "cell_type": "markdown",
   "id": "153083b3",
   "metadata": {},
   "source": [
    "### Dropping duplicates if exist"
   ]
  },
  {
   "cell_type": "code",
   "execution_count": 13,
   "id": "8e7cfe27",
   "metadata": {},
   "outputs": [],
   "source": [
    "df.drop_duplicates(inplace=True)"
   ]
  },
  {
   "cell_type": "markdown",
   "id": "1fbbbb09",
   "metadata": {},
   "source": [
    "### Checking Shape of final data"
   ]
  },
  {
   "cell_type": "code",
   "execution_count": 14,
   "id": "acadc869",
   "metadata": {},
   "outputs": [
    {
     "data": {
      "text/plain": [
       "(83401, 11)"
      ]
     },
     "execution_count": 14,
     "metadata": {},
     "output_type": "execute_result"
    }
   ],
   "source": [
    "df.shape"
   ]
  },
  {
   "cell_type": "markdown",
   "id": "11ba2f6e",
   "metadata": {},
   "source": [
    "---"
   ]
  },
  {
   "cell_type": "markdown",
   "id": "f2e415da",
   "metadata": {},
   "source": [
    "### Saving data into `CSV file`, will load that data into DB in `table_to_db.py` file"
   ]
  },
  {
   "cell_type": "code",
   "execution_count": null,
   "id": "0bcd4c9d",
   "metadata": {},
   "outputs": [],
   "source": [
    "df.to_csv(\"transformed_data.csv\", index=False)"
   ]
  },
  {
   "cell_type": "code",
   "execution_count": null,
   "id": "177c33b7",
   "metadata": {},
   "outputs": [],
   "source": []
  }
 ],
 "metadata": {
  "kernelspec": {
   "display_name": "Python 3 (ipykernel)",
   "language": "python",
   "name": "python3"
  },
  "language_info": {
   "codemirror_mode": {
    "name": "ipython",
    "version": 3
   },
   "file_extension": ".py",
   "mimetype": "text/x-python",
   "name": "python",
   "nbconvert_exporter": "python",
   "pygments_lexer": "ipython3",
   "version": "3.11.4"
  }
 },
 "nbformat": 4,
 "nbformat_minor": 5
}
